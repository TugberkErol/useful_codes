{
 "cells": [
  {
   "cell_type": "code",
   "execution_count": 2,
   "metadata": {},
   "outputs": [],
   "source": [
    "import json\n",
    "from glob import glob"
   ]
  },
  {
   "cell_type": "code",
   "execution_count": 3,
   "metadata": {},
   "outputs": [],
   "source": [
    "#Reach the bounding box information, we append all image names into image_name list.\n",
    "images_name = []\n",
    "a = glob(\"C:/kvasir/images/*.jpg\")\n",
    "for i in range(1000):\n",
    "    images_name.append(a[i][17:-4])"
   ]
  },
  {
   "cell_type": "code",
   "execution_count": 4,
   "metadata": {},
   "outputs": [
    {
     "data": {
      "text/plain": [
       "'cju0tl3uz8blh0993wxvn7ly3'"
      ]
     },
     "execution_count": 4,
     "metadata": {},
     "output_type": "execute_result"
    }
   ],
   "source": [
    "#An example of image name \n",
    "images_name[10]"
   ]
  },
  {
   "cell_type": "code",
   "execution_count": 5,
   "metadata": {},
   "outputs": [],
   "source": [
    "def convert_json_to_txt():\n",
    "    \n",
    "    with open(\"kvasir_bboxes.json\", \"r\") as f:\n",
    "        datas = json.load(f)\n",
    "        for i in range(1000):    \n",
    "            data = datas[images_name[i]]\n",
    "            xmin = data[\"bbox\"][0][\"xmin\"]\n",
    "            ymin = data[\"bbox\"][0][\"ymin\"]\n",
    "            xmax = data[\"bbox\"][0][\"xmax\"]\n",
    "            ymax = data[\"bbox\"][0][\"ymax\"]\n",
    "            width = data[\"width\"]\n",
    "            height = data[\"height\"]\n",
    "            #Normalize bounding box coordinates between 0 and 1.\n",
    "            xmin /= width \n",
    "            xmax /= width\n",
    "            ymin /= height\n",
    "            ymax /= height\n",
    "            file =open(\"C:/kvasir/labels/\" + str(images_name[i]) + \".txt\", \"w\")\n",
    "            file.write(\"0\" + \" \" + str(xmin) + \" \" + str(xmax) + \" \" + str(ymin) + \" \" + str(ymax))\n",
    "            file.close()\n"
   ]
  },
  {
   "cell_type": "code",
   "execution_count": 6,
   "metadata": {},
   "outputs": [],
   "source": [
    "convert_json_to_txt()"
   ]
  }
 ],
 "metadata": {
  "kernelspec": {
   "display_name": "Python 3",
   "language": "python",
   "name": "python3"
  },
  "language_info": {
   "codemirror_mode": {
    "name": "ipython",
    "version": 3
   },
   "file_extension": ".py",
   "mimetype": "text/x-python",
   "name": "python",
   "nbconvert_exporter": "python",
   "pygments_lexer": "ipython3",
   "version": "3.7.9"
  }
 },
 "nbformat": 4,
 "nbformat_minor": 4
}
